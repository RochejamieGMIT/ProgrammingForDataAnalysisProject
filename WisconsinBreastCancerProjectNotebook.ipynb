{
 "cells": [
  {
   "cell_type": "markdown",
   "id": "8035d852",
   "metadata": {},
   "source": [
    "# Programming for Data Analysis Project\n",
    "# Breast Cancer Wisconsin (Original) Data Set\n",
    "\n",
    "## An introduction to the data set\n",
    "This data set is a data set based on the work of Dr. William H. Wolberg, in University of Wisconsin Hospitals, Madison last revised on Nov 22,1991. The data was comprised of on going research, so the data was added in intervals, broken in to groups. \n",
    "\n",
    "The groups are as follows:\n",
    "Group 1: 367 instances (January 1989)\n",
    "Group 2: 70 instances (October 1989)\n",
    "Group 3: 31 instances (February 1990)\n",
    "Group 4: 17 instances (April 1990)\n",
    "Group 5: 48 instances (August 1990)\n",
    "Group 6: 49 instances (Updated January 1991)\n",
    "Group 7: 31 instances (June 1991)\n",
    "Group 8: 86 instances (November 1991)\n",
    "\n",
    "The data set is made up of 11 data points. The first data point is the ID number of the instance, data points 2 - 10 are the attibutes of each tumor being evaluated, the 11th attrubite is the classification. Each tumor is classified as benign or malignant. \n",
    "\n",
    "Data points 2 - 10 are as follows:\n",
    "\n",
    "2. Clump Thickness           \n",
    "3. Uniformity of Cell Size     \n",
    "4. Uniformity of Cell Shape     \n",
    "5. Marginal Adhesion            \n",
    "6. Single Epithelial Cell Size   \n",
    "7. Bare Nuclei                   \n",
    "8. Bland Chromatin               \n",
    "9. Normal Nucleoli              \n",
    "10. Mitoses\n",
    "\n",
    "These 9 data points are attributes of the descovered tumors. Part of this project will be statistically examining these data points for trends, and ultimately try to uncover an effective way to analyse the data to predict with an appropriate accuracy if a tumor is benign or malignant, and clas \n"
   ]
  },
  {
   "cell_type": "markdown",
   "id": "e310154e",
   "metadata": {},
   "source": [
    "## A literary review of existing  papers\n",
    "\n",
    "### Paper 1 - Analysis of the Wisconsin Breast Cancer Dataset and Machine Learning for Breast Cancer Detection\n",
    "### by Borges, Lucas Rodrigues\n",
    "https://www.researchgate.net/profile/Lucas-Borges-13/publication/311950799_Analysis_of_the_Wisconsin_Breast_Cancer_Dataset_and_Machine_Learning_for_Breast_Cancer_Detection/links/5864757e08ae329d6203aa82/Analysis-of-the-Wisconsin-Breast-Cancer-Dataset-and-Machine-Learning-for-Breast-Cancer-Detection.pdf\n",
    "\n",
    "\n",
    "This paper uses 2 techniques to analyse the data set, bayesian network is a graphical model, that maps each random variable in a data set to a node and the connection between each node is the conditional probability for the corresonding variables. In the bayesian network model there is no node connected to itself or no loops between nodes occur. This machine learning model is based on Bayes theorem:\n",
    "\n",
    "$$P(A \\vert B) = \\frac{P(B \\vert A)(P(A)}{P(B)}$$\n",
    "\n",
    "\n",
    "J48 also known as C4.5 Algorithm is a machine learning method based on descision trees to classify data. J48 processes data in the data set by category. \n",
    "\n",
    "In this paper, the author uses both above methods to classify the data, with the bayesian network out performing J48, it is worth noting, the best results came from filtering out the Mitosis data points as these had a low correlation to other data, and the class outcome. \n",
    "\n",
    "The best results in this study, the  bayesian network without Mitosis: \n",
    "\n",
    "| Accuracy | False Negative | False Positve |\n",
    "|----------|----------------|---------------|\n",
    "| 97.80%    | 2(0.29%)       | 13(1.90%)    |\n",
    "\n",
    "\n",
    "### Paper 2 - ANALYSIS OF FEATURE SELECTION WITH CLASSFICATION: BREAST CANCER DATASETS\n",
    "### by D.Lavanya and Dr.K.Usha Rani \n",
    "http://ijcse.com/docs/INDJCSE11-02-05-167.pdf\n",
    "\n",
    "\n",
    "This paper use multiple data sets, including the Breast Cancer Wisconsin (Original) Data Set . This paper also uses quite a few data analysis techniques. The first technique is the CART Algorithm. \n",
    "\n",
    "The Classification And Regression Tree (CART) is a another machine learning technique where decision trees are used to predict a target variable using predictor variables in the decison tree. The CART method determines a best point to split the input, it then continues splititng the input until all spliting is complete or until a limit is reached. \n",
    "\n",
    "Using the CART method, the outcome was predictied with 94.84% accuracy. This took a decision tree size of 15 to complete all the splitting until the best results were reached. \n",
    "\n",
    "The most effective method for the Breast Cancer Wisconsin (Original) Data Set in this paper is the Principal Components Attribute Evaluation, achieving an accuracy of 96.99% with a decision tree of 3. \n",
    "\n",
    "Principal Component Evaluation is a machine learning technique that converts correlated data points in to lineraly uncorrelated features using orthogonal transformation. Principal Component Evaluation investigates the variance of the data points, data points with high varience are a good point in which to split the data. \n",
    "\n",
    "### Analysis of Wisconsin Breast Cancer original dataset using data mining and machine learning algorithms for breast cancer prediction \n",
    "### by Md. Toukir Ahmed, Md. Niaz Imtiaz and Animesh Karmakar\n",
    "https://www.journalbinet.com/uploads/2/1/0/0/21005390/67.02.09.2020_analysis_of_wisconsin_breast_cancer_original_dataset_using_data_mining_and_machine_learning_algorithms_for_breast_cancer_prediction.pdf\n",
    "\n",
    "In this paper, 5 methods of analysis were used, - Naïve Bayes, Support Vector Machine\n",
    "(SVM), Multilayer Perceptron (MLP), J48 and Random Forest. We have covered the J48 in a previous paper, but the most notable from this paper is the Naïve Bayes achieving an accuracy of: 97.2779%. In the first paper reviewed the authors used a  bayesian network, in this paper the authors used Naïve Bayes. The difference between these 2 methods is bayesian networks are models the relationship between data points more generally, a Naïve Bayes classifier is a specific subcategory of the bayesian network. In this subcategory data points are conditionally idnependant. and desscribed as:\n",
    "$$ P(X\\vert Y,Z) = P(X\\vert Z) $$"
   ]
  },
  {
   "cell_type": "markdown",
   "id": "86a12b70",
   "metadata": {},
   "source": []
  },
  {
   "cell_type": "markdown",
   "id": "597ddb98",
   "metadata": {},
   "source": []
  },
  {
   "cell_type": "markdown",
   "id": "062dd664",
   "metadata": {},
   "source": []
  },
  {
   "cell_type": "markdown",
   "id": "d408f572",
   "metadata": {},
   "source": []
  },
  {
   "cell_type": "code",
   "execution_count": null,
   "id": "0b1d43ba",
   "metadata": {},
   "outputs": [],
   "source": []
  },
  {
   "cell_type": "code",
   "execution_count": null,
   "id": "ed03fe48",
   "metadata": {},
   "outputs": [],
   "source": []
  },
  {
   "cell_type": "code",
   "execution_count": null,
   "id": "0e124b1e",
   "metadata": {},
   "outputs": [],
   "source": []
  },
  {
   "cell_type": "markdown",
   "id": "2861eefa",
   "metadata": {},
   "source": [
    "References: \n",
    "https://archive.ics.uci.edu/ml/datasets/breast+cancer+wisconsin+(original)\n",
    "http://odds.cs.stonybrook.edu/breast-cancer-wisconsin-original-dataset/\n",
    "https://www.researchgate.net/profile/Lucas-Borges-13/publication/311950799_Analysis_of_the_Wisconsin_Breast_Cancer_Dataset_and_Machine_Learning_for_Breast_Cancer_Detection/links/5864757e08ae329d6203aa82/Analysis-of-the-Wisconsin-Breast-Cancer-Dataset-and-Machine-Learning-for-Breast-Cancer-Detection.pdf\n",
    "https://www.sciencedirect.com/topics/mathematics/bayesian-network#:~:text=and%20Markov%20models-,A%20Bayesian%20network%20(BN)%20is%20a%20probabilistic%20graphical%20model%20for,belief%20networks%20or%20Bayes%20nets.\n",
    "http://www.malinc.se/math/latex/basiccodeen.php#:~:text=To%20write%20a%20fraction%2C%20you,in%20text%20are%20called%20inline.\n",
    "https://tex.stackexchange.com/questions/400108/how-to-put-vertical-line-among-the-words\n",
    "https://www.geeksforgeeks.org/building-a-machine-learning-model-using-j48-classifier/\n",
    "https://medium.com/@nilimakhanna1/j48-classification-c4-5-algorithm-in-a-nutshell-24c50d20658e\n",
    "http://ijcse.com/docs/INDJCSE11-02-05-167.pdf\n",
    "https://www.geeksforgeeks.org/cart-classification-and-regression-tree-in-machine-learning/\n",
    "https://www.javatpoint.com/principal-component-analysis\n",
    "https://stackoverflow.com/questions/12298150/what-is-the-difference-between-a-bayesian-network-and-a-naive-bayes-classifier\n",
    "https://stats.stackexchange.com/questions/212240/the-difference-between-the-bayes-classifier-and-the-naive-bayes-classifier#:~:text=Naive%20Bayes%20assumes%20conditional%20independence,%2C%20in%20fact%2C%20conditionally%20independent.\n",
    "https://stackoverflow.com/questions/12298150/what-is-the-difference-between-a-bayesian-network-and-a-naive-bayes-classifier"
   ]
  },
  {
   "cell_type": "markdown",
   "id": "4a711bcb",
   "metadata": {},
   "source": []
  }
 ],
 "metadata": {
  "kernelspec": {
   "display_name": "Python 3 (ipykernel)",
   "language": "python",
   "name": "python3"
  },
  "language_info": {
   "codemirror_mode": {
    "name": "ipython",
    "version": 3
   },
   "file_extension": ".py",
   "mimetype": "text/x-python",
   "name": "python",
   "nbconvert_exporter": "python",
   "pygments_lexer": "ipython3",
   "version": "3.9.7"
  }
 },
 "nbformat": 4,
 "nbformat_minor": 5
}
